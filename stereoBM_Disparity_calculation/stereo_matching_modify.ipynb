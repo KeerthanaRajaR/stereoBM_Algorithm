{
 "cells": [
  {
   "cell_type": "code",
   "execution_count": null,
   "id": "5d0fa550-8758-4581-ae4e-02572f973534",
   "metadata": {},
   "outputs": [
    {
     "name": "stdout",
     "output_type": "stream",
     "text": [
      "Clicked Point: (202, 237) - Disparity: 13.12, Depth: 1.14 meters\n",
      "Clicked Point: (452, 276) - Disparity: 10.31, Depth: 1.45 meters\n",
      "Clicked Point: (452, 276) - Disparity: 10.31, Depth: 1.45 meters\n",
      "Clicked Point: (404, 157) - Disparity: 6.19, Depth: 2.42 meters\n"
     ]
    }
   ],
   "source": [
    "import cv2\n",
    "import itertools\n",
    "import numpy as np\n",
    "from matplotlib import pyplot as plt\n",
    "\n",
    "# Function to display depth and disparity when a point is clicked\n",
    "def onMouseClick(event, x, y, flags, param):\n",
    "    if event == cv2.EVENT_LBUTTONDOWN:\n",
    "        disparity_value = disparity[y, x] / 16.0  # Disparity is scaled by 16 in OpenCV StereoBM\n",
    "        if disparity_value > 0:\n",
    "            depth_value = (baseline * focal_length) / disparity_value\n",
    "            print(f\"Clicked Point: ({x}, {y}) - Disparity: {disparity_value:.2f}, Depth: {depth_value:.2f} meters\")\n",
    "        else:\n",
    "            print(f\"Clicked Point: ({x}, {y}) - Invalid disparity (object too far)\")\n",
    "\n",
    "# Loading the left / right images\n",
    "imgL = cv2.imread(r\"C:\\Users\\Keerthana R\\Pictures\\Saved Pictures\\New folder\\tsukuba_l.png\", cv2.IMREAD_GRAYSCALE)\n",
    "imgR = cv2.imread(r\"C:\\Users\\Keerthana R\\Pictures\\Saved Pictures\\New folder\\tsukuba_r.png\", cv2.IMREAD_GRAYSCALE)\n",
    "\n",
    "# Disparity estimation\n",
    "stereo = cv2.StereoBM_create(numDisparities=32, blockSize=15)\n",
    "disparity = stereo.compute(imgL, imgR)\n",
    "\n",
    "# Normalize disparity for display\n",
    "disparity_display = cv2.normalize(disparity, None, alpha=0, beta=255, norm_type=cv2.NORM_MINMAX)\n",
    "disparity_display = np.uint8(disparity_display)\n",
    "\n",
    "# Set camera parameters\n",
    "baseline = 0.1  # meters\n",
    "focal_length = 150  # pixels\n",
    "\n",
    "# Display image with disparity map and mouse click event\n",
    "cv2.imshow('Disparity', disparity_display)\n",
    "cv2.setMouseCallback('Disparity', onMouseClick)\n",
    "\n",
    "# Keep window open until any key is pressed\n",
    "cv2.waitKey(0)\n",
    "cv2.destroyAllWindows()\n"
   ]
  },
  {
   "cell_type": "code",
   "execution_count": null,
   "id": "e5039ee9-668e-4f2b-8c1d-3956e341b646",
   "metadata": {},
   "outputs": [],
   "source": []
  }
 ],
 "metadata": {
  "kernelspec": {
   "display_name": "Python 3 (ipykernel)",
   "language": "python",
   "name": "python3"
  },
  "language_info": {
   "codemirror_mode": {
    "name": "ipython",
    "version": 3
   },
   "file_extension": ".py",
   "mimetype": "text/x-python",
   "name": "python",
   "nbconvert_exporter": "python",
   "pygments_lexer": "ipython3",
   "version": "3.11.7"
  }
 },
 "nbformat": 4,
 "nbformat_minor": 5
}
